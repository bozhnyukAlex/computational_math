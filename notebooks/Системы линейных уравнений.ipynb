{
 "cells": [
  {
   "cell_type": "markdown",
   "id": "loved-riding",
   "metadata": {},
   "source": [
    "***Божнюк Александр Сергеевич, 271 группа***"
   ]
  },
  {
   "cell_type": "markdown",
   "id": "equal-grove",
   "metadata": {
    "pycharm": {
     "name": "#%% md\n"
    }
   },
   "source": [
    "## Задание\n",
    "Исследовать на возможность применения метода простой итерации и метода Зейделя для следующих систем уравнений\n",
    "$X = BX + C$, где\n",
    "$$ B = \\left(\\begin{array}{cc}\n",
    "p & q\\\\\n",
    "-q & p\n",
    "\\end{array}\\right) $$\n",
    "при заданных значениях параметров $p, q, C$\n",
    "В случае сходимости метода простой итерации вычислить решение с точностью $\\epsilon = 10^{−3}$.  \n",
    "Найти наибольшее собственное число степенным методом. Проверить, с помощью Теоремы Гершгорина."
   ]
  },
  {
   "cell_type": "markdown",
   "id": "dirty-piece",
   "metadata": {
    "pycharm": {
     "name": "#%% md\n"
    }
   },
   "source": [
    "## Код решения (Python3)"
   ]
  },
  {
   "cell_type": "code",
   "execution_count": 1,
   "id": "deluxe-tours",
   "metadata": {},
   "outputs": [],
   "source": [
    "from numpy import linalg as la\n",
    "import numpy as np"
   ]
  },
  {
   "cell_type": "code",
   "execution_count": 2,
   "id": "utility-discretion",
   "metadata": {},
   "outputs": [],
   "source": [
    "def check_convergence(b):\n",
    "    e_values = la.eig(b)[0]\n",
    "    for e in e_values:\n",
    "        if abs(e) >= 1:\n",
    "            return False\n",
    "    return True\n"
   ]
  },
  {
   "cell_type": "markdown",
   "id": "temporal-vatican",
   "metadata": {},
   "source": [
    "Функция ```сheck_сonvergence``` исследует на возможность применения метода простой итерации и\n",
    "метода Зейделя следующим образом: вычисляются собственные числа матрицы B и проверяется, что все они меньше 1. Здесь мы используем теорему о сходимости метода последовательных приближений, которая говорит нам о сходимости процесса последовательных приближений. Далее остается написать реализацию метода простых итераций."
   ]
  },
  {
   "cell_type": "code",
   "execution_count": 3,
   "id": "demonstrated-device",
   "metadata": {},
   "outputs": [],
   "source": [
    "def iteration_solve(b, c, eps=0.001):\n",
    "    if not check_convergence(b):\n",
    "        raise ValueError(\"Нельзя решить методом простых итераций\")\n",
    "    x1_curr = 0\n",
    "    x2_curr = 0\n",
    "    while True:\n",
    "        x1_next = b[0,0] * x1_curr + b[0,1] * x2_curr + c[0]\n",
    "        x2_next = b[1,0] * x1_curr + b[1,1] * x2_curr + c[1]\n",
    "        if abs(x1_next - x1_curr) < eps and abs(x2_next - x2_curr) < eps:\n",
    "            return x1_curr, x2_curr\n",
    "        x1_curr = x1_next\n",
    "        x2_curr = x2_next\n"
   ]
  },
  {
   "cell_type": "markdown",
   "id": "arabic-richmond",
   "metadata": {},
   "source": [
    "Метод простых итераций работает следующим образом: сначала проверяется на сходимость метода простых итераций для введенных B и C по теореме о сходимости метода последовательных приближений, если метод простых итераций сходится для данного примера, то идут\n",
    "вычисления по алгоритму до тех пор, пока $max |(x_i^{k+1}-x_i^k )| < \\epsilon$,то есть это будет говорить\n",
    "нам о том, что вектор приближений достиг заданной точности $\\epsilon = 0.001$."
   ]
  },
  {
   "cell_type": "markdown",
   "id": "active-management",
   "metadata": {
    "pycharm": {
     "name": "#%% md\n"
    }
   },
   "source": [
    "## Использование и проверка невязки"
   ]
  },
  {
   "cell_type": "code",
   "execution_count": 4,
   "id": "adaptive-tanzania",
   "metadata": {
    "pycharm": {
     "name": "#%%\n"
    }
   },
   "outputs": [],
   "source": [
    "def print_f(p, q, c, x):\n",
    "    print(\n",
    "        'p = {p}, q = {q}, c = [{c_0}, {c_1}]:\\nx = [{x_0}, {x_1}]\\n'.format(\n",
    "            p=p, q=q, c_0=c[0], c_1=c[1], x_0=x[0], x_1=x[1]\n",
    "        )\n",
    "    )\n",
    "\n",
    "def check_discrepancy(a, f, x, eps=0.001):\n",
    "    d = [a[0,0] * x[0] + a[0,1] * x[1] - f[0],\n",
    "        a[1,0] * x[0] + a[1,1] * x[1] - f[1]]\n",
    "    if d[0] < eps and d[1] < eps:\n",
    "        return True\n",
    "    return False"
   ]
  },
  {
   "cell_type": "markdown",
   "id": "sixth-jacksonville",
   "metadata": {},
   "source": [
    "Функция ```check_discrepancy``` ищет невязку решения как $AX^k − F$ и проверяет, что $max|d_i| < \\epsilon$ , то есть что все числа вектор-стобца невязки меньше нашего заданного эпсилон, что означает, что в таком случае наше решение имеет приемлимое отклонение, так как мы не вышли за значение точности эпсилон"
   ]
  },
  {
   "cell_type": "markdown",
   "id": "deluxe-consumption",
   "metadata": {
    "pycharm": {
     "name": "#%% md\n"
    }
   },
   "source": [
    "$2) p = -0.9, q = -0.3, C = (2.2, 1.6)^T$"
   ]
  },
  {
   "cell_type": "code",
   "execution_count": 5,
   "id": "criminal-vegetarian",
   "metadata": {
    "pycharm": {
     "name": "#%%\n"
    }
   },
   "outputs": [
    {
     "name": "stdout",
     "output_type": "stream",
     "text": [
      "p = -0.9, q = -0.3, c = [[2.2], [1.6]]:\n",
      "x = [[1.00038427], [1.00051926]]\n",
      "\n",
      "Проверка невязки:  True\n"
     ]
    }
   ],
   "source": [
    "p1 = -0.9\n",
    "q1 = -0.3\n",
    "b1 = np.matrix([[p1, q1], [-q1, p1]])\n",
    "c1 = np.array([[2.2],[1.6]])\n",
    "try:\n",
    "    x_s = iteration_solve(b1, c1)\n",
    "    print_f(p1, q1, c1, x_s)\n",
    "    a1 = np.matrix([[1-p1, -q1], [q1, 1-p1]])\n",
    "    print(\"Проверка невязки: \", check_discrepancy(a1, c1, x_s))\n",
    "except ValueError:\n",
    "    print (\"Нельзя решить методом простых итераций\")"
   ]
  },
  {
   "cell_type": "markdown",
   "id": "varied-conference",
   "metadata": {
    "pycharm": {
     "name": "#%% md\n"
    }
   },
   "source": [
    "$4) p = -0.5, q = -0.6, C = (2.1, 1.1)^T$"
   ]
  },
  {
   "cell_type": "code",
   "execution_count": 6,
   "id": "disabled-newcastle",
   "metadata": {
    "pycharm": {
     "name": "#%%\n"
    }
   },
   "outputs": [
    {
     "name": "stdout",
     "output_type": "stream",
     "text": [
      "p = -0.5, q = -0.6, c = [2.1, 1.1]:\n",
      "x = [0.9542659282735366, 1.1154240034010314]\n",
      "\n",
      "Проверка невязки:  True\n"
     ]
    }
   ],
   "source": [
    "p2 = -0.5\n",
    "q2 = -0.6\n",
    "c2 = [2.1, 1.1]\n",
    "b2 = np.matrix([[p2, q2], [-q2, p2]])\n",
    "try:\n",
    "    x_s = iteration_solve(b2, c2)\n",
    "    print_f(p2, q2, c2, x_s)\n",
    "    a2 = np.matrix([[1-p2, -q2], [q2, 1-p2]])\n",
    "    print(\"Проверка невязки: \", check_discrepancy(a2, c2, x_s))\n",
    "except ValueError:\n",
    "    print (\"Нельзя решить методом простых итераций\")"
   ]
  },
  {
   "cell_type": "markdown",
   "id": "ordinary-muslim",
   "metadata": {
    "pycharm": {
     "name": "#%% md\n"
    }
   },
   "source": [
    "$6) p = 0.8, q = 1, C = (-0.8, 1.2)^T$"
   ]
  },
  {
   "cell_type": "code",
   "execution_count": 7,
   "id": "recent-success",
   "metadata": {
    "pycharm": {
     "name": "#%%\n"
    }
   },
   "outputs": [
    {
     "name": "stdout",
     "output_type": "stream",
     "text": [
      "Нельзя решить методом простых итераций\n"
     ]
    }
   ],
   "source": [
    "p3 = 0.8\n",
    "q3 = 1\n",
    "c3 = [-0.8, 1.2]\n",
    "b3 = np.matrix([[p3, q3], [-q3, p3]])\n",
    "try:\n",
    "    x_s = iteration_solve(b3, c3)\n",
    "    print_f(p3, q3, c3, x_s)\n",
    "    a3 = np.matrix([[1-p3, -q3], [q3, 1-p3]])\n",
    "    print(\"Проверка невязки: \", check_discrepancy(a3, c3, x_s))\n",
    "except ValueError:\n",
    "    print (\"Нельзя решить методом простых итераций\")"
   ]
  },
  {
   "cell_type": "markdown",
   "id": "binding-edinburgh",
   "metadata": {},
   "source": [
    "В примере 6 метод простых итераций и Зейделя расходятся, так как теорема о сходимости метода последовательных приближений не выполнилась."
   ]
  },
  {
   "cell_type": "markdown",
   "id": "adapted-official",
   "metadata": {
    "pycharm": {
     "name": "#%% md\n"
    }
   },
   "source": [
    "## Наибольшее собственное число\n",
    "## Сравнение с теоремой Гершгорина"
   ]
  },
  {
   "cell_type": "code",
   "execution_count": 8,
   "id": "actual-trunk",
   "metadata": {
    "pycharm": {
     "name": "#%%\n"
    }
   },
   "outputs": [],
   "source": [
    "def get_numbers_after_decimal_point(num, num_cnt=3):\n",
    "    after_point_digits_str = str(num).split('.')[1][0:num_cnt]\n",
    "    return [int(dig) for dig in after_point_digits_str]\n",
    "\n",
    "def max_eig(b, num_cnt=3):\n",
    "    y_curr = [1, 1]\n",
    "    while True:\n",
    "        y_next = [b[0,0] * y_curr[0] + b[0,1] * y_curr[1],\n",
    "                  b[1,0] * y_curr[0] + b[1,1] * y_curr[1]]\n",
    "        p = [y_next[0] / y_curr[0], y_next[1] / y_curr[1]]\n",
    "        nums0 = get_numbers_after_decimal_point(p[0], num_cnt)\n",
    "        nums1 = get_numbers_after_decimal_point(p[1], num_cnt)\n",
    "        if nums0 == nums1:\n",
    "            return p[0]\n",
    "        y_curr = [y_next[0], y_next[1]]\n",
    "\n",
    "def gershgorin_check(b, e_val, eps=0.001):\n",
    "    if abs(abs(e_val - b[0,0]) - b[0,1]) <= eps or abs(abs(e_val - b[1,1]) - b[1,0]) <= eps:\n",
    "        return False\n",
    "    return True"
   ]
  },
  {
   "cell_type": "markdown",
   "id": "orange-electric",
   "metadata": {},
   "source": [
    "Берем $s = 3$, такое же количество знаков в мантиссе, как и у заданной точности $\\epsilon$  \n",
    "В функции ```max_eig``` производится вычисление максимального собственного числа при заданных ``p``, ``q`` и количестве знаков.\n",
    "В функции ```gershgorin_check``` мы смотрим, что наше максимальное число лежит в объединении двух кругов Гершгорина."
   ]
  },
  {
   "cell_type": "markdown",
   "id": "worldwide-carol",
   "metadata": {
    "pycharm": {
     "name": "#%% md\n"
    }
   },
   "source": [
    "$2) p = -0.9, q = -0.3$"
   ]
  },
  {
   "cell_type": "code",
   "execution_count": 9,
   "id": "educational-findings",
   "metadata": {
    "pycharm": {
     "name": "#%%\n"
    }
   },
   "outputs": [
    {
     "name": "stdout",
     "output_type": "stream",
     "text": [
      "-1.7996772097568197\n",
      "Проверка Гершгорина: True\n"
     ]
    }
   ],
   "source": [
    "p1 = -0.9\n",
    "q1 = -0.3\n",
    "b1 = np.matrix([[p1, q1], [-q1, p1]])\n",
    "e1 = max_eig(b1)\n",
    "print(e1)\n",
    "print(\"Проверка Гершгорина:\", gershgorin_check(b1, e1))\n"
   ]
  },
  {
   "cell_type": "markdown",
   "id": "corresponding-africa",
   "metadata": {
    "pycharm": {
     "name": "#%% md\n"
    }
   },
   "source": [
    "$3) p = -0.5, q = -0.6$"
   ]
  },
  {
   "cell_type": "code",
   "execution_count": 10,
   "id": "exotic-protest",
   "metadata": {
    "pycharm": {
     "name": "#%%\n"
    }
   },
   "outputs": [
    {
     "name": "stdout",
     "output_type": "stream",
     "text": [
      "-5.426202192491996\n",
      "Проверка Гершгорина: True\n"
     ]
    }
   ],
   "source": [
    "p2 = -0.5\n",
    "q2 = -0.6\n",
    "b2 = np.matrix([[p2, q2], [-q2, p2]])\n",
    "e2 = max_eig(b2)\n",
    "print(e2)\n",
    "print(\"Проверка Гершгорина:\", gershgorin_check(b2, e2))"
   ]
  },
  {
   "cell_type": "markdown",
   "id": "capital-sleeping",
   "metadata": {
    "pycharm": {
     "name": "#%% md\n"
    }
   },
   "source": [
    "$6) p = 0.8, q = 1$"
   ]
  },
  {
   "cell_type": "code",
   "execution_count": 11,
   "id": "spare-hormone",
   "metadata": {
    "pycharm": {
     "name": "#%%\n"
    }
   },
   "outputs": [
    {
     "name": "stdout",
     "output_type": "stream",
     "text": [
      "-0.5440383372716374\n",
      "Проверка Гершгорина: True\n"
     ]
    }
   ],
   "source": [
    "p3 = 0.8\n",
    "q3 = 1\n",
    "b3 = np.matrix([[p3, q3], [-q3, p3]])\n",
    "e3 = max_eig(b3)\n",
    "print(e3)\n",
    "print(\"Проверка Гершгорина:\", gershgorin_check(b3, e3))"
   ]
  },
  {
   "cell_type": "markdown",
   "id": "quantitative-thanksgiving",
   "metadata": {
    "pycharm": {
     "name": "#%% md\n"
    }
   },
   "source": [
    "Мы видим,что наше максимальные собственные числа удовлетворяют теореме Гершгорина, так как лежит в объединении кругов Гершгорина (True - удовлетворяет, False - не удовлетворяет). Это говорит нам о том, что мы верно нашли максимальное собственное число матрицы B."
   ]
  },
  {
   "cell_type": "markdown",
   "id": "compact-segment",
   "metadata": {},
   "source": [
    "## Дополнительно"
   ]
  },
  {
   "cell_type": "markdown",
   "id": "intimate-recycling",
   "metadata": {},
   "source": [
    "Возьмем пример $6$ и найдем собственное число матрицы \n",
    "$$ B_L = \\left(\\begin{array}{cc}\n",
    "p-L & q\\\\\n",
    "-Lq & p-L\n",
    "\\end{array}\\right) $$  \n",
    "где $L$ - собственное число матрицы $B$ из примера $6$"
   ]
  },
  {
   "cell_type": "code",
   "execution_count": 12,
   "id": "egyptian-gauge",
   "metadata": {},
   "outputs": [
    {
     "name": "stdout",
     "output_type": "stream",
     "text": [
      "2.08176411010252\n",
      "Проверка Гершгорина:  True\n"
     ]
    }
   ],
   "source": [
    "b_extra = np.matrix([[p3 - e3, q3], [-e3 * q3, p3 - e3]])\n",
    "e_extra = max_eig(b_extra)\n",
    "print(e_extra)\n",
    "print(\"Проверка Гершгорина: \", gershgorin_check(b3, e3))"
   ]
  },
  {
   "cell_type": "markdown",
   "id": "brief-relaxation",
   "metadata": {},
   "source": [
    "В данном примере мы таким же образом получили максимальное собственное число и убедились в том, что оно удовлетворяет теореме Гершгорина, так как лежит в объединении кругов Гершгорина."
   ]
  }
 ],
 "metadata": {
  "kernelspec": {
   "display_name": "Python 3",
   "language": "python",
   "name": "python3"
  },
  "language_info": {
   "codemirror_mode": {
    "name": "ipython",
    "version": 3
   },
   "file_extension": ".py",
   "mimetype": "text/x-python",
   "name": "python",
   "nbconvert_exporter": "python",
   "pygments_lexer": "ipython3",
   "version": "3.8.5"
  }
 },
 "nbformat": 4,
 "nbformat_minor": 5
}