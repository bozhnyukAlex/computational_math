{
 "cells": [
  {
   "cell_type": "markdown",
   "id": "legitimate-cedar",
   "metadata": {},
   "source": [
    "***Божнюк Александр Сергеевич, 271 группа***"
   ]
  },
  {
   "cell_type": "markdown",
   "id": "threaded-western",
   "metadata": {},
   "source": [
    "# Задание:\n",
    "Посчитать интеграл от функции   \n",
    "$y=ln(1+2*c*cos(x)+c^2)$  \n",
    "$x \\in [0, \\pi]$  \n",
    "$c = 0.1, c = 0.9$  \n"
   ]
  },
  {
   "cell_type": "markdown",
   "id": "uniform-possession",
   "metadata": {},
   "source": [
    "# Код решения (Python3)"
   ]
  },
  {
   "cell_type": "code",
   "execution_count": 1,
   "id": "faced-flood",
   "metadata": {},
   "outputs": [],
   "source": [
    "from math import pi, cos, log, exp\n",
    "import numpy as np\n",
    "import scipy.integrate as integrate"
   ]
  },
  {
   "cell_type": "code",
   "execution_count": 2,
   "id": "stunning-fitness",
   "metadata": {},
   "outputs": [],
   "source": [
    "def integralLeft(a, b, n, f):\n",
    "    h = (b - a) / n\n",
    "    x = [a + k * h for k in range(0, n + 1)]\n",
    "    result = 0\n",
    "    for i in range(0, n):\n",
    "        result += (x[i + 1] - x[i]) * f(x[i])\n",
    "    return result"
   ]
  },
  {
   "cell_type": "code",
   "execution_count": 3,
   "id": "liked-worker",
   "metadata": {},
   "outputs": [],
   "source": [
    "def integralRight(a, b, n, f):\n",
    "    h = (b - a) / n\n",
    "    x = [a + k * h for k in range(0, n + 1)]\n",
    "    result = 0\n",
    "    for i in range(0, n):\n",
    "        result += (x[i + 1] - x[i]) * f(x[i + 1])\n",
    "    return result"
   ]
  },
  {
   "cell_type": "code",
   "execution_count": 4,
   "id": "enhanced-jaguar",
   "metadata": {},
   "outputs": [],
   "source": [
    "def integralMiddle(a, b, n, f):\n",
    "    h = (b - a) / n\n",
    "    x = [a + k * h for k in range(0, n + 1)]\n",
    "    result = 0\n",
    "    for i in range(0, n):\n",
    "        result += (x[i + 1] - x[i]) * f((x[i + 1] + x[i]) / 2)\n",
    "    return result"
   ]
  },
  {
   "cell_type": "code",
   "execution_count": 5,
   "id": "finite-guard",
   "metadata": {},
   "outputs": [
    {
     "name": "stdout",
     "output_type": "stream",
     "text": [
      "Метод левых прямоугольников\n",
      "с = 0.1:  6.30425582647602e-05\n",
      "c = 0.9:  0.0009250227865963616\n",
      "Метод средних прямоугольников\n",
      "c = 0.1:  1.075853815757366e-15\n",
      "c = 0.9:  5.064525188114288e-15\n",
      "Метод правых прямоугольников\n",
      "c = 0.1:  -6.304255826705682e-05\n",
      "c = 0.9:  -0.0009250227865915932\n"
     ]
    }
   ],
   "source": [
    "f1 = lambda x: log(1 + 2 * 0.1 * cos(x) + 0.1 ** 2)\n",
    "f2 = lambda x: log(1 + 2 * 0.9 * cos(x) + 0.9 ** 2)\n",
    "n = 10000\n",
    "il1 = integralLeft(0, pi, n, f1)\n",
    "il2 = integralLeft(0, pi, n, f2)\n",
    "im1 = integralMiddle(0, pi, n, f1)\n",
    "im2 = integralMiddle(0, pi, n, f2)\n",
    "ir1 = integralRight(0, pi, n, f1)\n",
    "ir2 = integralRight(0, pi, n, f2)\n",
    "print(\"Метод левых прямоугольников\")\n",
    "print(\"с = 0.1: \", il1)\n",
    "print(\"c = 0.9: \", il2)\n",
    "print(\"Метод средних прямоугольников\")\n",
    "print(\"c = 0.1: \", im1)\n",
    "print(\"c = 0.9: \", im2)\n",
    "print(\"Метод правых прямоугольников\")\n",
    "print(\"c = 0.1: \", ir1)\n",
    "print(\"c = 0.9: \",ir2)"
   ]
  },
  {
   "cell_type": "markdown",
   "id": "colored-divide",
   "metadata": {},
   "source": [
    "# Задание:  \n",
    "Построить квадратурную формулу гауссова типа с двумя узлами  \n",
    "$p(x) = x^\\alpha, \\alpha = 1/2, 2, 3, a = 0, b = 1;$    \n",
    "$p(x) = e^x, a = 0, b = 1/2;$  \n",
    "$p(x) = ln(x), a = 0, b = 1/2;$  \n"
   ]
  },
  {
   "cell_type": "code",
   "execution_count": 6,
   "id": "charged-surgeon",
   "metadata": {},
   "outputs": [],
   "source": [
    "def momentFun(i, p):\n",
    "    return lambda x: p(x) * (x ** i)\n",
    "\n",
    "\n",
    "def quad(p, f, a, b):\n",
    "    n = 100000\n",
    "    c = [integralMiddle(a, b, n, momentFun(i, p)) for i in range(4)]\n",
    "    K1 = np.array([[c[1], c[0]], [c[2], c[1]]])\n",
    "    b1 = np.array([-c[2], -c[3]])\n",
    "    sr = np.linalg.solve(K1, b1)\n",
    "    s = sr[0]\n",
    "    r = sr[1]\n",
    "    x = np.roots([1, s, r])\n",
    "    K2 = np.array([[1, 1], [x[0], x[1]]])\n",
    "    b2 = np.array([c[0], c[1]])\n",
    "    A = np.linalg.solve(K2, b2)\n",
    "    return (A[0] * f(x[0]) + A[1] * f(x[1]), A, x)\n",
    "    "
   ]
  },
  {
   "cell_type": "code",
   "execution_count": 7,
   "id": "silver-dressing",
   "metadata": {},
   "outputs": [
    {
     "name": "stdout",
     "output_type": "stream",
     "text": [
      "Моя версия: \n",
      "0.6666666685900495\n",
      "0.3333333333249995\n",
      "0.24999999998750005\n",
      "0.6487212706994457\n",
      "-0.8465718574141032\n"
     ]
    }
   ],
   "source": [
    "pa1 = lambda x: x ** 0.5\n",
    "pa2 = lambda x: x ** 2\n",
    "pa3 = lambda x: x ** 3\n",
    "pb = lambda x: exp(x)\n",
    "pc = lambda x: log(x)\n",
    "f = lambda _: 1\n",
    "\n",
    "qa1 = quad(pa1, f, 0, 1)[0]\n",
    "qa2 = quad(pa2, f, 0, 1)[0]\n",
    "qa3 = quad(pa3, f, 0, 1)[0]\n",
    "qb = quad(pb, f, 0, 0.5)[0]\n",
    "qc = quad(pc, f, 0, 0.5)[0]\n",
    "\n",
    "print('Моя версия: ')\n",
    "print(qa1)\n",
    "print(qa2)\n",
    "print(qa3)\n",
    "print(qb)\n",
    "print(qc)"
   ]
  },
  {
   "cell_type": "markdown",
   "id": "honey-secret",
   "metadata": {},
   "source": [
    "# Проверка правильности"
   ]
  },
  {
   "cell_type": "code",
   "execution_count": 8,
   "id": "described-payment",
   "metadata": {},
   "outputs": [
    {
     "name": "stdout",
     "output_type": "stream",
     "text": [
      "Версия с scipy:\n",
      "0.6666666666666669\n",
      "0.33333333333333337\n",
      "0.25\n",
      "0.6487212707001281\n",
      "-0.8465735902799725\n",
      "\n",
      "Проверка правильности - разности интегралов: \n",
      "1.9233826753506378e-09\n",
      "8.333889134348738e-12\n",
      "1.2499945523103406e-11\n",
      "6.823430709346212e-13\n",
      "1.7328658692417065e-06\n"
     ]
    }
   ],
   "source": [
    "fpa1 = lambda x: (x ** 0.5) * f(x)\n",
    "fpa1 = lambda x: (x ** 0.5) * f(x)\n",
    "fpa2 = lambda x: (x ** 2) * f(x)\n",
    "fpa3 = lambda x: (x ** 3) * f(x)\n",
    "fpb = lambda x: exp(x) * f(x)\n",
    "fpc = lambda x: log(x) * f(x)\n",
    "\n",
    "sqa1 = (integrate.quad(fpa1, 0, 1))[0]\n",
    "sqa2 = (integrate.quad(fpa2, 0, 1))[0]\n",
    "sqa3 = (integrate.quad(fpa3, 0, 1))[0]\n",
    "sqb = (integrate.quad(fpb, 0, 0.5))[0]\n",
    "sqc = (integrate.quad(fpc, 0, 0.5))[0]\n",
    "\n",
    "print(\"Версия с scipy:\")\n",
    "print(sqa1)\n",
    "print(sqa2)\n",
    "print(sqa3)\n",
    "print(sqb)\n",
    "print(sqc)\n",
    "\n",
    "dqa1 = abs(sqa1 - qa1)\n",
    "dqa2 = abs(sqa2 - qa2)\n",
    "dqa3 = abs(sqa3 - qa3)\n",
    "dqb = abs(sqb - qb)\n",
    "dqc = abs(sqc - qc)\n",
    "print(\"\")\n",
    "\n",
    "print(\"Проверка правильности - разности интегралов: \")\n",
    "print(dqa1)\n",
    "print(dqa2)\n",
    "print(dqa3)\n",
    "print(dqb)\n",
    "print(dqc)"
   ]
  },
  {
   "cell_type": "markdown",
   "id": "ceramic-prospect",
   "metadata": {},
   "source": [
    "# Применение"
   ]
  },
  {
   "cell_type": "markdown",
   "id": "ready-carpet",
   "metadata": {},
   "source": [
    "Пусть $F(x) = e^x, p(x) = x^2, a = 0, b = 1$  \n",
    "Используем функцию quad: "
   ]
  },
  {
   "cell_type": "code",
   "execution_count": 9,
   "id": "caring-march",
   "metadata": {},
   "outputs": [
    {
     "name": "stdout",
     "output_type": "stream",
     "text": [
      "Результат:  0.7182312381072327\n",
      "Коэффициенты А: [0.23254745 0.10078588]\n",
      "Узлы x:  [0.87748518 0.45584816]\n"
     ]
    }
   ],
   "source": [
    "# наша функция\n",
    "F = lambda x: exp(x)\n",
    "# весовая функция\n",
    "p = lambda x: x ** 2 \n",
    "# левая граница\n",
    "A = 0\n",
    "# правая граница\n",
    "B = 1\n",
    "# Используем функцию quad, которая как раз \n",
    "q = quad(p, F, A, B)\n",
    "print(\"Результат: \", q[0])\n",
    "print(\"Коэффициенты А:\", q[1])\n",
    "print(\"Узлы x: \", q[2])"
   ]
  }
 ],
 "metadata": {
  "kernelspec": {
   "display_name": "Python 3",
   "language": "python",
   "name": "python3"
  },
  "language_info": {
   "codemirror_mode": {
    "name": "ipython",
    "version": 3
   },
   "file_extension": ".py",
   "mimetype": "text/x-python",
   "name": "python",
   "nbconvert_exporter": "python",
   "pygments_lexer": "ipython3",
   "version": "3.8.5"
  }
 },
 "nbformat": 4,
 "nbformat_minor": 5
}
