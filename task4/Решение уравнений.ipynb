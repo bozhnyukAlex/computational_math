{
 "cells": [
  {
   "cell_type": "markdown",
   "id": "technological-consultancy",
   "metadata": {
    "pycharm": {
     "name": "#%% md\n"
    }
   },
   "source": [
    "***Божнюк Александр Сергеевич, 271 группа***"
   ]
  },
  {
   "cell_type": "markdown",
   "id": "animal-northwest",
   "metadata": {
    "pycharm": {
     "name": "#%% md\n"
    }
   },
   "source": [
    "## Задание\n",
    "Решить нелинейное уравнение:\n",
    "а) основным методом Ньютона;\n",
    "б) модифицированным методом Ньютона;\n",
    "в) методом секущих;\n",
    "$x^2(x^2/3+\\sqrt{2}*sin(x))-\\sqrt{3}/19=0$"
   ]
  },
  {
   "cell_type": "markdown",
   "id": "comparative-suicide",
   "metadata": {
    "pycharm": {
     "name": "#%% md\n"
    }
   },
   "source": [
    "## Код решения (Python3)"
   ]
  },
  {
   "cell_type": "code",
   "execution_count": 1,
   "id": "proper-spain",
   "metadata": {
    "pycharm": {
     "name": "#%%\n"
    }
   },
   "outputs": [],
   "source": [
    "import matplotlib.pyplot as plt\n",
    "from math import sqrt, sin\n",
    "import numpy as np\n",
    "from scipy.misc import derivative"
   ]
  },
  {
   "cell_type": "markdown",
   "id": "urban-disposal",
   "metadata": {
    "pycharm": {
     "name": "#%% md\n"
    }
   },
   "source": [
    "Построим график функции:"
   ]
  },
  {
   "cell_type": "code",
   "execution_count": 2,
   "id": "elect-advantage",
   "metadata": {
    "pycharm": {
     "name": "#%%\n"
    }
   },
   "outputs": [
    {
     "data": {
      "image/png": "[encoded data removed]",
      "text/plain": [
       "<Figure size 432x288 with 1 Axes>"
      ]
     },
     "metadata": {
      "needs_background": "light"
     },
     "output_type": "display_data"
    }
   ],
   "source": [
    "f = lambda x:  (x ** 2 * (x ** 2 / 3 + sqrt(2) * sin(x)) - sqrt(3)/19)\n",
    "X = np.linspace(-3, 3, 100)\n",
    "Y = (X ** 2 * (X ** 2 / 3 + sqrt(2) * np.sin(X)) - sqrt(3)/19)\n",
    "fig = plt.figure()\n",
    "ax = fig.add_subplot(1, 1, 1)\n",
    "ax.spines['left'].set_position('center')\n",
    "ax.spines['bottom'].set_position('zero')\n",
    "ax.spines['right'].set_color('none')\n",
    "ax.spines['top'].set_color('none')\n",
    "ax.xaxis.set_ticks_position('bottom')\n",
    "ax.yaxis.set_ticks_position('left')\n",
    "plt.plot(X,Y,'g')\n",
    "plt.show()"
   ]
  },
  {
   "cell_type": "markdown",
   "id": "narrow-nitrogen",
   "metadata": {
    "pycharm": {
     "name": "#%% md\n"
    }
   },
   "source": [
    "Имеем 2 пересечения с осью OX. Рассмотрим 2 отрезка, стараясь брать их как можно меньшего размера:\n",
    "1. $[-2.5;-1.5]$\n",
    "2. $[-0.5;0.5]$"
   ]
  },
  {
   "cell_type": "markdown",
   "id": "southern-cameroon",
   "metadata": {
    "pycharm": {
     "name": "#%% md\n"
    }
   },
   "source": [
    "### Решение методом Ньютона"
   ]
  },
  {
   "cell_type": "code",
   "execution_count": 3,
   "id": "duplicate-movie",
   "metadata": {
    "pycharm": {
     "name": "#%%\n"
    }
   },
   "outputs": [],
   "source": [
    "def solve_newton(func, x_0, eps=0.0001):\n",
    "    print(\"Начальная точка x_0: \", x_0)\n",
    "    x_curr = x_0\n",
    "    while True:\n",
    "        print(\"x_curr: \", x_curr)\n",
    "        x_next = x_curr - func(x_curr) / derivative(func, x_curr)\n",
    "        if abs(x_next - x_curr) < eps:\n",
    "            return x_next\n",
    "        x_curr = x_next"
   ]
  },
  {
   "cell_type": "markdown",
   "id": "korean-columbia",
   "metadata": {
    "pycharm": {
     "name": "#%% md\n"
    }
   },
   "source": [
    "Найдем корни: возьмем точки $x_0$ из отрезков и определим корни на отрезках согласно методу."
   ]
  },
  {
   "cell_type": "code",
   "execution_count": 4,
   "id": "nonprofit-myrtle",
   "metadata": {
    "pycharm": {
     "name": "#%%\n"
    }
   },
   "outputs": [
    {
     "name": "stdout",
     "output_type": "stream",
     "text": [
      "Начальная точка x_0:  -2.5\n",
      "x_curr:  -2.5\n",
      "x_curr:  -2.2346544308135\n",
      "x_curr:  -2.0987462306688878\n",
      "x_curr:  -2.0349385320765996\n",
      "x_curr:  -2.0070337937255722\n",
      "x_curr:  -1.9953409398429551\n",
      "x_curr:  -1.9905435608448223\n",
      "x_curr:  -1.9885935454996222\n",
      "x_curr:  -1.987804008470837\n",
      "x_curr:  -1.9874848475658018\n",
      "x_curr:  -1.9873559147476894\n",
      "Первый корень:  -1.9873038429554082\n",
      "Начальная точка x_0:  0\n",
      "x_curr:  0\n",
      "x_curr:  0.0766042532099273\n",
      "x_curr:  0.1459535286540334\n",
      "x_curr:  0.20637877579237546\n",
      "x_curr:  0.2563263809036249\n",
      "x_curr:  0.2954696019155337\n",
      "x_curr:  0.32476776347838104\n",
      "x_curr:  0.34592471933348157\n",
      "x_curr:  0.36080650385356844\n",
      "x_curr:  0.37108216605051\n",
      "x_curr:  0.3780873572962924\n",
      "x_curr:  0.38282173321101703\n",
      "x_curr:  0.3860027591883356\n",
      "x_curr:  0.38813173379601024\n",
      "x_curr:  0.38955287515729653\n",
      "x_curr:  0.3904998674778674\n",
      "x_curr:  0.39113017319845084\n",
      "x_curr:  0.39154937248742633\n",
      "x_curr:  0.39182802745294726\n",
      "x_curr:  0.3920131949756267\n",
      "x_curr:  0.3921362117605728\n",
      "Второй корень:  0.39221792614543866\n"
     ]
    }
   ],
   "source": [
    "print(\"Первый корень: \", solve_newton(f, -2.5))\n",
    "print(\"Второй корень: \", solve_newton(f, 0))"
   ]
  },
  {
   "cell_type": "markdown",
   "id": "nonprofit-house",
   "metadata": {
    "pycharm": {
     "name": "#%% md\n"
    }
   },
   "source": [
    "### Решение модифицированным методом Ньютона"
   ]
  },
  {
   "cell_type": "code",
   "execution_count": 5,
   "id": "pleasant-progressive",
   "metadata": {
    "pycharm": {
     "name": "#%%\n"
    }
   },
   "outputs": [],
   "source": [
    "def solve_modified_newton(func, x_0, eps=0.0001):\n",
    "    print(\"Начальная точка x_0: \", x_0)\n",
    "    x_curr = x_0\n",
    "    while True:\n",
    "        print(\"x_curr: \", x_curr)\n",
    "        x_next = x_curr - func(x_curr) / derivative(func, x_0)\n",
    "        if abs(x_next - x_curr) < eps:\n",
    "            return x_next\n",
    "        x_curr = x_next"
   ]
  },
  {
   "cell_type": "markdown",
   "id": "amber-pollution",
   "metadata": {},
   "source": [
    "Найдем корни: возьмем точки $x_0$ из отрезков и определим корни на отрезках согласно методу."
   ]
  },
  {
   "cell_type": "code",
   "execution_count": 6,
   "id": "beautiful-savage",
   "metadata": {
    "pycharm": {
     "name": "#%%\n"
    }
   },
   "outputs": [
    {
     "name": "stdout",
     "output_type": "stream",
     "text": [
      "Начальная точка x_0:  -2.5\n",
      "x_curr:  -2.5\n",
      "x_curr:  -2.2346544308135\n",
      "x_curr:  -2.142308536489881\n",
      "x_curr:  -2.0912217534566935\n",
      "x_curr:  -2.0593390376575447\n",
      "x_curr:  -2.0382239845131416\n",
      "x_curr:  -2.023747456815536\n",
      "x_curr:  -2.0136021548780954\n",
      "x_curr:  -2.0063876588308562\n",
      "x_curr:  -2.001205639830322\n",
      "x_curr:  -1.997457278204183\n",
      "x_curr:  -1.9947323734784486\n",
      "x_curr:  -1.9927443707433075\n",
      "x_curr:  -1.9912902268105264\n",
      "x_curr:  -1.990224575571366\n",
      "x_curr:  -1.9894425538126643\n",
      "x_curr:  -1.9888680956059024\n",
      "x_curr:  -1.9884457992010751\n",
      "x_curr:  -1.9881351926287618\n",
      "x_curr:  -1.9879066453802627\n",
      "x_curr:  -1.9877384291657165\n",
      "x_curr:  -1.98761459150134\n",
      "Первый корень:  -1.9875234101331802\n",
      "Начальная точка x_0:  0\n",
      "x_curr:  0\n",
      "x_curr:  0.0766042532099273\n",
      "x_curr:  0.15266516378492145\n",
      "x_curr:  0.2249052235360009\n",
      "x_curr:  0.287387023148367\n",
      "x_curr:  0.33425990138764816\n",
      "x_curr:  0.3638066024792369\n",
      "x_curr:  0.3795346730196087\n",
      "x_curr:  0.38690510546872203\n",
      "x_curr:  0.3901074947603541\n",
      "x_curr:  0.3914476949431181\n",
      "x_curr:  0.39199926414034936\n",
      "x_curr:  0.39222466463554256\n",
      "Второй корень:  0.3923165059154383\n"
     ]
    }
   ],
   "source": [
    "print(\"Первый корень: \", solve_modified_newton(f, -2.5))\n",
    "print(\"Второй корень: \", solve_modified_newton(f, 0))"
   ]
  },
  {
   "cell_type": "markdown",
   "id": "greater-thumbnail",
   "metadata": {
    "pycharm": {
     "name": "#%% md\n"
    }
   },
   "source": [
    "**Вывод:**\n",
    "Мы нашли корни уравнения с заданной $\\epsilon=0.0001$ двумя методами. Заметим, что в модифицированном методе\n",
    "Ньютона итераций больше. Это подтверждает тот факт, что модифицированный метод Ньютона сходится медленнее, чем\n",
    "метод Ньютона."
   ]
  },
  {
   "cell_type": "markdown",
   "id": "biological-lambda",
   "metadata": {
    "pycharm": {
     "name": "#%% md\n"
    }
   },
   "source": [
    "### Решение методом секущих"
   ]
  },
  {
   "cell_type": "code",
   "execution_count": 7,
   "id": "statutory-fight",
   "metadata": {
    "pycharm": {
     "name": "#%%\n"
    }
   },
   "outputs": [],
   "source": [
    "def secant_solve(x_0, x_1, func, eps=0.0001):\n",
    "    print(\"Начальная точка x_0: \", x_0)\n",
    "    print(\"Начальная точка x_1: \", x_1)\n",
    "    x_pred = x_0\n",
    "    x_curr = x_1\n",
    "    while True:\n",
    "        x_next = x_curr - func(x_curr) / ((func(x_curr) - f(x_pred)) / (x_curr - x_pred))\n",
    "        print(\"x_next: \", x_next)\n",
    "        if abs(x_next - x_curr) < eps:\n",
    "            return x_curr\n",
    "        x_pred = x_curr\n",
    "        x_curr = x_next"
   ]
  },
  {
   "cell_type": "markdown",
   "id": "fluid-minneapolis",
   "metadata": {
    "pycharm": {
     "name": "#%% md\n"
    }
   },
   "source": [
    "Возьмем две точки $x_0$ и $x_1$ из отрезков и подставим в функцию вычисления для получения корней:"
   ]
  },
  {
   "cell_type": "code",
   "execution_count": 8,
   "id": "compliant-imperial",
   "metadata": {
    "pycharm": {
     "name": "#%%\n"
    }
   },
   "outputs": [
    {
     "name": "stdout",
     "output_type": "stream",
     "text": [
      "Начальная точка x_0:  -2.5\n",
      "Начальная точка x_1:  -1.5\n",
      "x_next:  -1.6711594480680896\n",
      "x_next:  -3.2236035934717258\n",
      "x_next:  -1.7284157515274008\n",
      "x_next:  -1.7786001311265671\n",
      "x_next:  -2.1434763294800856\n",
      "x_next:  -1.9365404095117604\n",
      "x_next:  -1.9765668690565616\n",
      "x_next:  -1.9881422207069301\n",
      "x_next:  -1.9872543328287922\n",
      "x_next:  -1.987268554178779\n",
      "Первый корень:  -1.9872543328287922\n",
      "Начальная точка x_0:  -0.5\n",
      "Начальная точка x_1:  0.5\n",
      "x_next:  0.20745188192974284\n",
      "x_next:  0.33625079827341725\n",
      "x_next:  0.4364949150786486\n",
      "x_next:  0.38585598199693\n",
      "x_next:  0.39167939984152256\n",
      "x_next:  0.39239150973355114\n",
      "x_next:  0.39237948530229205\n",
      "Второй корень:  0.39239150973355114\n"
     ]
    }
   ],
   "source": [
    "print(\"Первый корень: \", secant_solve(-2.5, -1.5, f))\n",
    "print(\"Второй корень: \", secant_solve(-0.5, 0.5, f))"
   ]
  },
  {
   "cell_type": "markdown",
   "id": "ultimate-escape",
   "metadata": {
    "pycharm": {
     "name": "#%% md\n"
    }
   },
   "source": [
    "**Вывод:**\n",
    "Методом секущих мы также смогли получить два корня, приблизительно совпадающие с результатами предыдущих двух методов\n"
   ]
  }
 ],
 "metadata": {
  "kernelspec": {
   "display_name": "Python 3",
   "language": "python",
   "name": "python3"
  },
  "language_info": {
   "codemirror_mode": {
    "name": "ipython",
    "version": 3
   },
   "file_extension": ".py",
   "mimetype": "text/x-python",
   "name": "python",
   "nbconvert_exporter": "python",
   "pygments_lexer": "ipython3",
   "version": "3.8.5"
  }
 },
 "nbformat": 4,
 "nbformat_minor": 5
}